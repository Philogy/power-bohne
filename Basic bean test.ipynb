{
 "cells": [
  {
   "cell_type": "code",
   "execution_count": 2,
   "id": "e62d4a84",
   "metadata": {},
   "outputs": [],
   "source": [
    "import beancount.loader"
   ]
  },
  {
   "cell_type": "code",
   "execution_count": 4,
   "id": "b9f9625c",
   "metadata": {},
   "outputs": [
    {
     "name": "stdout",
     "output_type": "stream",
     "text": [
      "config: {'st': 'Income:ST-PnL', 'lt': 'Income:LT-PnL', 'acc': 'Assets:Crypto'}\n"
     ]
    },
    {
     "data": {
      "text/plain": [
       "11"
      ]
     },
     "execution_count": 4,
     "metadata": {},
     "output_type": "execute_result"
    }
   ],
   "source": [
    "entries, errors, options_map = beancount.loader.load_file('Example.beancount.journal')\n",
    "if errors:\n",
    "    for error in errors:\n",
    "        print(error.message)\n",
    "        print()\n",
    "len(entries)"
   ]
  },
  {
   "cell_type": "code",
   "execution_count": 8,
   "id": "9a0f9054",
   "metadata": {},
   "outputs": [],
   "source": [
    "from beancount.parser import options\n",
    "from beancount.core import realization, prices\n",
    "\n",
    "account_types = options.get_account_types(options_map) \n",
    "real_root = realization.realize(entries, account_types)\n",
    "price_map = prices.build_price_map(entries)  "
   ]
  },
  {
   "cell_type": "code",
   "execution_count": 18,
   "id": "7a8f169d",
   "metadata": {},
   "outputs": [
    {
     "data": {
      "text/plain": [
       "['__class__',\n",
       " '__class_getitem__',\n",
       " '__contains__',\n",
       " '__delattr__',\n",
       " '__delitem__',\n",
       " '__dir__',\n",
       " '__doc__',\n",
       " '__eq__',\n",
       " '__format__',\n",
       " '__ge__',\n",
       " '__getattribute__',\n",
       " '__getitem__',\n",
       " '__gt__',\n",
       " '__hash__',\n",
       " '__init__',\n",
       " '__init_subclass__',\n",
       " '__ior__',\n",
       " '__iter__',\n",
       " '__le__',\n",
       " '__len__',\n",
       " '__lt__',\n",
       " '__module__',\n",
       " '__ne__',\n",
       " '__new__',\n",
       " '__or__',\n",
       " '__reduce__',\n",
       " '__reduce_ex__',\n",
       " '__repr__',\n",
       " '__reversed__',\n",
       " '__ror__',\n",
       " '__setattr__',\n",
       " '__setitem__',\n",
       " '__sizeof__',\n",
       " '__slots__',\n",
       " '__str__',\n",
       " '__subclasshook__',\n",
       " 'account',\n",
       " 'balance',\n",
       " 'clear',\n",
       " 'copy',\n",
       " 'fromkeys',\n",
       " 'get',\n",
       " 'items',\n",
       " 'keys',\n",
       " 'pop',\n",
       " 'popitem',\n",
       " 'setdefault',\n",
       " 'txn_postings',\n",
       " 'update',\n",
       " 'values']"
      ]
     },
     "execution_count": 18,
     "metadata": {},
     "output_type": "execute_result"
    }
   ],
   "source": [
    "dir(real_root['Assets']['Crypto'])"
   ]
  },
  {
   "cell_type": "code",
   "execution_count": 9,
   "id": "4a84e145",
   "metadata": {},
   "outputs": [
    {
     "data": {
      "text/plain": [
       "AccountTypes(assets='Assets', liabilities='Liabilities', equity='Equity', income='Income', expenses='Expenses')"
      ]
     },
     "execution_count": 9,
     "metadata": {},
     "output_type": "execute_result"
    }
   ],
   "source": [
    "account_types"
   ]
  },
  {
   "cell_type": "code",
   "execution_count": 11,
   "id": "abe10334",
   "metadata": {},
   "outputs": [
    {
     "data": {
      "text/plain": [
       "[('', ()),\n",
       " ('Assets', ()),\n",
       " ('Assets:Cash', (8787.48 EUR)),\n",
       " ('Assets:Crypto',\n",
       "  (0.28125 ETH {1600.00 EUR, 2021-11-18}, 0.075 ETH {2800.00 EUR, 2021-08-05})),\n",
       " ('Equity', ()),\n",
       " ('Equity:Opening-Balances', (-10000.00 EUR)),\n",
       " ('Expenses', ()),\n",
       " ('Expenses:Fees', (17.33 EUR)),\n",
       " ('Income', ()),\n",
       " ('Income:LT-PnL', (535.19 EUR)),\n",
       " ('Income:ST-PnL', ()),\n",
       " ('Liabilities', ())]"
      ]
     },
     "execution_count": 11,
     "metadata": {},
     "output_type": "execute_result"
    }
   ],
   "source": [
    "[(child.account, child.balance) for child in realization.iter_children(real_root)]"
   ]
  },
  {
   "cell_type": "code",
   "execution_count": 12,
   "id": "cb61bc24",
   "metadata": {},
   "outputs": [
    {
     "data": {
      "text/plain": [
       "(0.28125 ETH {1600.00 EUR, 2021-11-18}, 0.075 ETH {2800.00 EUR, 2021-08-05})"
      ]
     },
     "execution_count": 12,
     "metadata": {},
     "output_type": "execute_result"
    }
   ],
   "source": [
    "crypto_bal = real_root['Assets']['Crypto'].balance\n",
    "crypto_bal"
   ]
  },
  {
   "cell_type": "code",
   "execution_count": 18,
   "id": "fe16498d",
   "metadata": {},
   "outputs": [
    {
     "name": "stdout",
     "output_type": "stream",
     "text": [
      "__abs__, __add__, __annotations__, __class__, __class_getitem__, __contains__, __copy__, __delattr__, __dir__, __doc__, __eq__, __format__, __ge__, __getattribute__, __getitem__, __getnewargs__, __gt__, __hash__, __init__, __init_subclass__, __iter__, __le__, __len__, __lt__, __match_args__, __module__, __mul__, __ne__, __neg__, __new__, __reduce__, __reduce_ex__, __repr__, __rmul__, __setattr__, __sizeof__, __slots__, __str__, __subclasshook__, _asdict, _field_defaults, _fields, _make, _replace, cost, cost_types, count, currency_pair, from_amounts, from_string, get_negative, index, is_negative_at_cost, sortkey, to_string, units\n",
      "\n"
     ]
    },
    {
     "data": {
      "text/plain": [
       "(Cost(number=Decimal('3000.00'), currency='EUR', date=datetime.date(2021, 8, 4), label=None),\n",
       " 0.15 ETH,\n",
       " datetime.date(2021, 8, 4))"
      ]
     },
     "execution_count": 18,
     "metadata": {},
     "output_type": "execute_result"
    }
   ],
   "source": [
    "lots = list(crypto_bal)\n",
    "lot = lots[0]\n",
    "print(*dir(lot), sep=', ')\n",
    "print()\n",
    "\n",
    "lot.cost, lot.units, lot.cost.date"
   ]
  },
  {
   "cell_type": "code",
   "execution_count": 16,
   "id": "680e54ed",
   "metadata": {},
   "outputs": [
    {
     "data": {
      "text/plain": [
       "dict_keys(['Equity:Opening-Balances', 'Assets:Crypto', 'Assets:Cash', 'Expenses:Fees', 'Income:ST-PnL', 'Income:LT-PnL'])"
      ]
     },
     "execution_count": 16,
     "metadata": {},
     "output_type": "execute_result"
    }
   ],
   "source": [
    "from beancount.core import getters as beancount_getters\n",
    "beancount_getters.get_accounts(entries)"
   ]
  },
  {
   "cell_type": "code",
   "execution_count": 15,
   "id": "04547b7f",
   "metadata": {},
   "outputs": [
    {
     "data": {
      "text/plain": [
       "TxnPosting(txn=Transaction(meta={'filename': '/home/philogy/Documents/Programming/Python/power_bohne/Example.beancount.journal', 'lineno': 15, '__tolerances__': {'EUR': Decimal('0.005'), 'ETH': Decimal('0.005')}}, date=datetime.date(2021, 8, 4), flag='*', payee='Kraken', narration='ETH Purchase', tags=frozenset(), links=frozenset(), postings=[Posting(account='Assets:Cash', units=-454.00 EUR, cost=None, price=None, flag=None, meta={'filename': '/home/philogy/Documents/Programming/Python/power_bohne/Example.beancount.journal', 'lineno': 16}), Posting(account='Assets:Crypto', units=0.15 ETH, cost=Cost(number=Decimal('3000.00'), currency='EUR', date=datetime.date(2021, 8, 4), label=None), price=None, flag=None, meta={'filename': '/home/philogy/Documents/Programming/Python/power_bohne/Example.beancount.journal', 'lineno': 17}), Posting(account='Expenses:Fees', units=4.00 EUR, cost=None, price=None, flag=None, meta={'filename': '/home/philogy/Documents/Programming/Python/power_bohne/Example.beancount.journal', 'lineno': 18, '__automatic__': True})]), posting=Posting(account='Assets:Crypto', units=0.15 ETH, cost=Cost(number=Decimal('3000.00'), currency='EUR', date=datetime.date(2021, 8, 4), label=None), price=None, flag=None, meta={'filename': '/home/philogy/Documents/Programming/Python/power_bohne/Example.beancount.journal', 'lineno': 17}))"
      ]
     },
     "execution_count": 15,
     "metadata": {},
     "output_type": "execute_result"
    }
   ],
   "source": [
    "realization.postings_by_account(entries)['Assets:Crypto'][1]"
   ]
  },
  {
   "cell_type": "code",
   "execution_count": 21,
   "id": "dacf9819",
   "metadata": {},
   "outputs": [
    {
     "data": {
      "text/plain": [
       "['asdfsadf']"
      ]
     },
     "execution_count": 21,
     "metadata": {},
     "output_type": "execute_result"
    }
   ],
   "source": [
    "'asdfsadf'.split(',', 1)"
   ]
  }
 ],
 "metadata": {
  "kernelspec": {
   "display_name": "Python 3 (ipykernel)",
   "language": "python",
   "name": "python3"
  },
  "language_info": {
   "codemirror_mode": {
    "name": "ipython",
    "version": 3
   },
   "file_extension": ".py",
   "mimetype": "text/x-python",
   "name": "python",
   "nbconvert_exporter": "python",
   "pygments_lexer": "ipython3",
   "version": "3.10.6"
  }
 },
 "nbformat": 4,
 "nbformat_minor": 5
}
